{
 "cells": [
  {
   "cell_type": "code",
   "execution_count": null,
   "id": "aac59335",
   "metadata": {},
   "outputs": [],
   "source": [
    "import numpy as np\n",
    "from transformers import AutoModelForCausalLM, AutoTokenizer\n",
    "import torch\n",
    "\n",
    "# Load the Mistral 7B model and tokenizer\n",
    "\n",
    "# Adjust the model_name to point to the correct location of your model files\n",
    "model_name = \"path_to_local_mistral_7b_model\"\n",
    "tokenizer = AutoTokenizer.from_pretrained(model_name)\n",
    "model = AutoModelForCausalLM.from_pretrained(model_name)\n",
    "\n",
    "# Function to format temperature data into a text sequence\n",
    "def format_temperature_data(data):\n",
    "    return ' '.join(map(str, data))\n",
    "\n",
    "# Function to generate synthetic data using the model\n",
    "def generate_synthetic_data(model, tokenizer, original_data, num_predictions=10):\n",
    "    input_text = format_temperature_data(original_data)\n",
    "    input_ids = tokenizer.encode(input_text, return_tensors='pt')\n",
    "    \n",
    "    synthetic_data = original_data.copy()\n",
    "    \n",
    "    for _ in range(num_predictions):\n",
    "        output = model.generate(input_ids, max_length=len(input_ids[0]) + 1, num_return_sequences=1)\n",
    "        generated_text = tokenizer.decode(output[0], skip_special_tokens=True)\n",
    "        new_data_point = float(generated_text.split()[-1])\n",
    "        synthetic_data.append(new_data_point)\n",
    "        input_ids = tokenizer.encode(format_temperature_data(synthetic_data), return_tensors='pt')\n",
    "    \n",
    "    return synthetic_data\n",
    "\n",
    "# Original temperature data points\n",
    "original_data = [30, 32, 35, 33, 31, 30, 29, 28, 30, 31, 32, 34]\n",
    "\n",
    "# Generate synthetic data\n",
    "num_predictions = 10  # Number of synthetic data points to generate\n",
    "synthetic_data = generate_synthetic_data(model, tokenizer, original_data, num_predictions)\n",
    "\n",
    "# Print the synthetic data\n",
    "print(\"Original Data:\", original_data)\n",
    "print(\"Synthetic Data:\", synthetic_data)"
   ]
  }
 ],
 "metadata": {
  "kernelspec": {
   "display_name": "Python 3 (ipykernel)",
   "language": "python",
   "name": "python3"
  },
  "language_info": {
   "codemirror_mode": {
    "name": "ipython",
    "version": 3
   },
   "file_extension": ".py",
   "mimetype": "text/x-python",
   "name": "python",
   "nbconvert_exporter": "python",
   "pygments_lexer": "ipython3",
   "version": "3.9.13"
  }
 },
 "nbformat": 4,
 "nbformat_minor": 5
}
