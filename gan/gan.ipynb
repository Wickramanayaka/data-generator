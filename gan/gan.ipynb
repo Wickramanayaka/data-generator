{
 "cells": [
  {
   "cell_type": "code",
   "execution_count": 7,
   "id": "3b75c4d7",
   "metadata": {},
   "outputs": [],
   "source": [
    "import numpy as np\n",
    "import matplotlib.pyplot as plt\n",
    "import tensorflow as tf\n",
    "from tensorflow.keras import layers\n",
    "import warnings\n",
    "warnings.filterwarnings('ignore')"
   ]
  },
  {
   "cell_type": "code",
   "execution_count": 2,
   "id": "6b4fcdb4",
   "metadata": {},
   "outputs": [],
   "source": [
    "# Original temperature data points\n",
    "original_data = np.array([30, 32, 35, 33, 31, 30, 29, 28, 30, 31, 32, 34])\n",
    "original_data = original_data.reshape(-1, 1)"
   ]
  },
  {
   "cell_type": "code",
   "execution_count": 3,
   "id": "d7bbab9c",
   "metadata": {},
   "outputs": [],
   "source": [
    "# Generator model\n",
    "def build_generator():\n",
    "    model = tf.keras.Sequential()\n",
    "    model.add(layers.Dense(16, activation='relu', input_dim=100))\n",
    "    model.add(layers.Dense(1, activation='linear'))\n",
    "    return model\n",
    "\n",
    "# Discriminator model\n",
    "def build_discriminator():\n",
    "    model = tf.keras.Sequential()\n",
    "    model.add(layers.Dense(16, activation='relu', input_dim=1))\n",
    "    model.add(layers.Dense(1, activation='sigmoid'))\n",
    "    return model"
   ]
  },
  {
   "cell_type": "code",
   "execution_count": 4,
   "id": "21943962",
   "metadata": {},
   "outputs": [],
   "source": [
    "def compile_gan(generator, discriminator):\n",
    "    discriminator.compile(optimizer='adam', loss='binary_crossentropy', metrics=['accuracy'])\n",
    "    \n",
    "    discriminator.trainable = False\n",
    "    gan_input = layers.Input(shape=(100,))\n",
    "    generated_data = generator(gan_input)\n",
    "    gan_output = discriminator(generated_data)\n",
    "    \n",
    "    gan = tf.keras.models.Model(gan_input, gan_output)\n",
    "    gan.compile(optimizer='adam', loss='binary_crossentropy')\n",
    "    \n",
    "    return gan"
   ]
  },
  {
   "cell_type": "code",
   "execution_count": 5,
   "id": "6a155e73",
   "metadata": {},
   "outputs": [],
   "source": [
    "def train_gan(gan, generator, discriminator, original_data, epochs=1000, batch_size=8):\n",
    "    for epoch in range(epochs):\n",
    "        # Train discriminator\n",
    "        noise = np.random.normal(0, 1, (batch_size, 100))\n",
    "        generated_data = generator.predict(noise)\n",
    "        real_data = original_data[np.random.randint(0, original_data.shape[0], batch_size)]\n",
    "        \n",
    "        combined_data = np.vstack((real_data, generated_data))\n",
    "        labels = np.ones((2 * batch_size, 1))\n",
    "        labels[batch_size:] = 0\n",
    "        \n",
    "        discriminator.trainable = True\n",
    "        discriminator.train_on_batch(combined_data, labels)\n",
    "        \n",
    "        # Train generator\n",
    "        noise = np.random.normal(0, 1, (batch_size, 100))\n",
    "        labels = np.ones((batch_size, 1))\n",
    "        discriminator.trainable = False\n",
    "        gan.train_on_batch(noise, labels)\n",
    "        \n",
    "        if epoch % 100 == 0:\n",
    "            print(f\"Epoch: {epoch}\")"
   ]
  },
  {
   "cell_type": "code",
   "execution_count": 8,
   "id": "8afd3146",
   "metadata": {},
   "outputs": [
    {
     "name": "stdout",
     "output_type": "stream",
     "text": [
      "Epoch: 0\n",
      "Epoch: 100\n",
      "Epoch: 200\n",
      "Epoch: 300\n",
      "Epoch: 400\n",
      "Epoch: 500\n",
      "Epoch: 600\n",
      "Epoch: 700\n",
      "Epoch: 800\n",
      "Epoch: 900\n"
     ]
    },
    {
     "data": {
      "image/png": "[encoded data removed]",
      "text/plain": [
       "<Figure size 720x360 with 1 Axes>"
      ]
     },
     "metadata": {
      "needs_background": "light"
     },
     "output_type": "display_data"
    }
   ],
   "source": [
    "def generate_synthetic_data(generator, num_samples):\n",
    "    noise = np.random.normal(0, 1, (num_samples, 100))\n",
    "    synthetic_data = generator.predict(noise)\n",
    "    return synthetic_data\n",
    "\n",
    "# Build and compile GAN\n",
    "generator = build_generator()\n",
    "discriminator = build_discriminator()\n",
    "gan = compile_gan(generator, discriminator)\n",
    "\n",
    "# Train GAN\n",
    "train_gan(gan, generator, discriminator, original_data)\n",
    "\n",
    "# Generate synthetic data\n",
    "num_samples = 100\n",
    "synthetic_data = generate_synthetic_data(generator, num_samples)\n",
    "\n",
    "# Plot the original and synthetic data\n",
    "plt.figure(figsize=(10, 5))\n",
    "plt.plot(original_data, 'o', label='Original Data')\n",
    "plt.plot(synthetic_data, 'x', label='Synthetic Data')\n",
    "plt.legend()\n",
    "plt.show()"
   ]
  },
  {
   "cell_type": "code",
   "execution_count": null,
   "id": "a8d18bf8",
   "metadata": {},
   "outputs": [],
   "source": []
  }
 ],
 "metadata": {
  "kernelspec": {
   "display_name": "Python 3 (ipykernel)",
   "language": "python",
   "name": "python3"
  },
  "language_info": {
   "codemirror_mode": {
    "name": "ipython",
    "version": 3
   },
   "file_extension": ".py",
   "mimetype": "text/x-python",
   "name": "python",
   "nbconvert_exporter": "python",
   "pygments_lexer": "ipython3",
   "version": "3.9.13"
  }
 },
 "nbformat": 4,
 "nbformat_minor": 5
}
